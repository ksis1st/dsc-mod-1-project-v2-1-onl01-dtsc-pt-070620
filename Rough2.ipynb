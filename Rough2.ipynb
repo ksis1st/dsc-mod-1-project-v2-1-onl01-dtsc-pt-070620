{
 "cells": [
  {
   "cell_type": "code",
   "execution_count": 11,
   "metadata": {
    "ExecuteTime": {
     "end_time": "2020-08-18T18:40:17.315866Z",
     "start_time": "2020-08-18T18:40:17.305877Z"
    }
   },
   "outputs": [],
   "source": [
    "import pandas as pd\n",
    "import os\n",
    "from glob import glob"
   ]
  },
  {
   "cell_type": "code",
   "execution_count": 12,
   "metadata": {
    "ExecuteTime": {
     "end_time": "2020-08-18T18:40:17.495785Z",
     "start_time": "2020-08-18T18:40:17.321863Z"
    }
   },
   "outputs": [
    {
     "data": {
      "text/plain": [
       "['./zippedData\\\\bom.movie_gross.csv.gz',\n",
       " './zippedData\\\\imdb.name.basics.csv.gz',\n",
       " './zippedData\\\\imdb.title.akas.csv.gz',\n",
       " './zippedData\\\\imdb.title.basics.csv.gz',\n",
       " './zippedData\\\\imdb.title.crew.csv.gz',\n",
       " './zippedData\\\\imdb.title.principals.csv.gz',\n",
       " './zippedData\\\\imdb.title.ratings.csv.gz',\n",
       " './zippedData\\\\tmdb.movies.csv.gz',\n",
       " './zippedData\\\\tn.movie_budgets.csv.gz']"
      ]
     },
     "execution_count": 12,
     "metadata": {},
     "output_type": "execute_result"
    }
   ],
   "source": [
    "# glob finds all the files in a specified directory that match the condition\n",
    "# we do this so we can open multiple files at once\n",
    "csv_files = glob(\"./zippedData/*.csv.gz\")\n",
    "csv_files"
   ]
  },
  {
   "cell_type": "code",
   "execution_count": 13,
   "metadata": {
    "ExecuteTime": {
     "end_time": "2020-08-18T18:40:17.628483Z",
     "start_time": "2020-08-18T18:40:17.501781Z"
    }
   },
   "outputs": [
    {
     "data": {
      "text/plain": [
       "['./zippedData\\\\rt.movie_info.tsv.gz', './zippedData\\\\rt.reviews.tsv.gz']"
      ]
     },
     "execution_count": 13,
     "metadata": {},
     "output_type": "execute_result"
    }
   ],
   "source": [
    "# tsv files, because later tsv files need to be opened with sep='\\t'\n",
    "tsv_files = glob(\"./zippedData/*.tsv.gz\")\n",
    "tsv_files"
   ]
  },
  {
   "cell_type": "code",
   "execution_count": 14,
   "metadata": {
    "ExecuteTime": {
     "end_time": "2020-08-18T18:40:22.457743Z",
     "start_time": "2020-08-18T18:40:17.637473Z"
    }
   },
   "outputs": [],
   "source": [
    "data_dict = {}\n",
    "\n",
    "for file in csv_files:\n",
    "    data_dict[file] = pd.read_csv(file)\n",
    "    \n",
    "for file in tsv_files:\n",
    "    data_dict[file] = pd.read_csv(file, sep='\\t', encoding= 'unicode_escape')"
   ]
  },
  {
   "cell_type": "code",
   "execution_count": 15,
   "metadata": {
    "ExecuteTime": {
     "end_time": "2020-08-18T18:40:22.464725Z",
     "start_time": "2020-08-18T18:40:22.459727Z"
    }
   },
   "outputs": [],
   "source": [
    "#1 we're creating a dictionary\n",
    "#2 there are two types of files, csv and tsv. tsv needs '\\t'\n",
    "#3 looping through each of the files and opening them as dataframes\n",
    "#4 now we have a dictionary of dataframes\n",
    "#5 the encoding solves the utf-8 error\n",
    " \n",
    "\n",
    "#reviews = pd.read_csv('data/rt.reviews.tsv', sep='\\t', encoding= 'unicode_escape')\n",
    "# reviews.head() # Henry's input to import individually"
   ]
  },
  {
   "cell_type": "markdown",
   "metadata": {},
   "source": [
    "Now you have a dictionary of DataFrames! You can choose to save each one to a variable and do with them what you wish."
   ]
  },
  {
   "cell_type": "code",
   "execution_count": 16,
   "metadata": {
    "ExecuteTime": {
     "end_time": "2020-08-18T18:40:23.354208Z",
     "start_time": "2020-08-18T18:40:22.467724Z"
    }
   },
   "outputs": [
    {
     "name": "stdout",
     "output_type": "stream",
     "text": [
      " Volume in drive C is OS\n",
      " Volume Serial Number is 58D2-4134\n",
      "\n",
      " Directory of C:\\Users\\DELL\\FLATIRON_LEARN\\Project_Mod1\\dsc-mod-1-project-v2-1-onl01-dtsc-pt-070620\n",
      "\n",
      "19-08-2020  00:02    <DIR>          .\n",
      "19-08-2020  00:02    <DIR>          ..\n",
      "12-08-2020  04:23                66 .gitignore\n",
      "12-08-2020  06:02    <DIR>          .ipynb_checkpoints\n",
      "12-08-2020  04:23                93 .learn\n",
      "12-08-2020  04:23         1,425,341 awesome.gif\n",
      "12-08-2020  04:23             1,846 CONTRIBUTING.md\n",
      "12-08-2020  04:23             1,357 LICENSE.md\n",
      "12-08-2020  05:59             2,084 mod1-project-starter.ipynb\n",
      "12-08-2020  04:23            78,619 module1_project_rubric.pdf\n",
      "12-08-2020  04:23            12,713 README.md\n",
      "19-08-2020  00:02            37,847 Rough2.ipynb\n",
      "12-08-2020  07:07            13,831 RoughProjectMod1.ipynb\n",
      "12-08-2020  04:38             1,891 student.ipynb\n",
      "12-08-2020  04:23    <DIR>          zippedData\n",
      "              11 File(s)      1,575,688 bytes\n",
      "               4 Dir(s)  842,523,062,272 bytes free\n"
     ]
    }
   ],
   "source": [
    "ls"
   ]
  },
  {
   "cell_type": "code",
   "execution_count": 41,
   "metadata": {
    "ExecuteTime": {
     "end_time": "2020-08-18T23:51:53.169132Z",
     "start_time": "2020-08-18T23:51:53.082183Z"
    }
   },
   "outputs": [
    {
     "data": {
      "text/plain": [
       "{'./zippedData\\\\bom.movie_gross.csv.gz':                                             title      studio  domestic_gross  \\\n",
       " 0                                     Toy Story 3          BV     415000000.0   \n",
       " 1                      Alice in Wonderland (2010)          BV     334200000.0   \n",
       " 2     Harry Potter and the Deathly Hallows Part 1          WB     296000000.0   \n",
       " 3                                       Inception          WB     292600000.0   \n",
       " 4                             Shrek Forever After        P/DW     238700000.0   \n",
       " ...                                           ...         ...             ...   \n",
       " 3382                                    The Quake       Magn.          6200.0   \n",
       " 3383                  Edward II (2018 re-release)          FM          4800.0   \n",
       " 3384                                     El Pacto        Sony          2500.0   \n",
       " 3385                                     The Swan  Synergetic          2400.0   \n",
       " 3386                            An Actor Prepares       Grav.          1700.0   \n",
       " \n",
       "      foreign_gross  year  \n",
       " 0        652000000  2010  \n",
       " 1        691300000  2010  \n",
       " 2        664300000  2010  \n",
       " 3        535700000  2010  \n",
       " 4        513900000  2010  \n",
       " ...            ...   ...  \n",
       " 3382           NaN  2018  \n",
       " 3383           NaN  2018  \n",
       " 3384           NaN  2018  \n",
       " 3385           NaN  2018  \n",
       " 3386           NaN  2018  \n",
       " \n",
       " [3387 rows x 5 columns],\n",
       " './zippedData\\\\imdb.name.basics.csv.gz':            nconst         primary_name  birth_year  death_year  \\\n",
       " 0       nm0061671    Mary Ellen Bauder         NaN         NaN   \n",
       " 1       nm0061865         Joseph Bauer         NaN         NaN   \n",
       " 2       nm0062070           Bruce Baum         NaN         NaN   \n",
       " 3       nm0062195         Axel Baumann         NaN         NaN   \n",
       " 4       nm0062798          Pete Baxter         NaN         NaN   \n",
       " ...           ...                  ...         ...         ...   \n",
       " 606643  nm9990381         Susan Grobes         NaN         NaN   \n",
       " 606644  nm9990690          Joo Yeon So         NaN         NaN   \n",
       " 606645  nm9991320       Madeline Smith         NaN         NaN   \n",
       " 606646  nm9991786  Michelle Modigliani         NaN         NaN   \n",
       " 606647  nm9993380       Pegasus Envoyé         NaN         NaN   \n",
       " \n",
       "                                       primary_profession  \\\n",
       " 0              miscellaneous,production_manager,producer   \n",
       " 1             composer,music_department,sound_department   \n",
       " 2                             miscellaneous,actor,writer   \n",
       " 3       camera_department,cinematographer,art_department   \n",
       " 4       production_designer,art_department,set_decorator   \n",
       " ...                                                  ...   \n",
       " 606643                                           actress   \n",
       " 606644                                           actress   \n",
       " 606645                                           actress   \n",
       " 606646                                          producer   \n",
       " 606647                             director,actor,writer   \n",
       " \n",
       "                                known_for_titles  \n",
       " 0       tt0837562,tt2398241,tt0844471,tt0118553  \n",
       " 1       tt0896534,tt6791238,tt0287072,tt1682940  \n",
       " 2       tt1470654,tt0363631,tt0104030,tt0102898  \n",
       " 3       tt0114371,tt2004304,tt1618448,tt1224387  \n",
       " 4       tt0452644,tt0452692,tt3458030,tt2178256  \n",
       " ...                                         ...  \n",
       " 606643                                      NaN  \n",
       " 606644                      tt9090932,tt8737130  \n",
       " 606645                      tt8734436,tt9615610  \n",
       " 606646                                      NaN  \n",
       " 606647                                tt8743182  \n",
       " \n",
       " [606648 rows x 6 columns],\n",
       " './zippedData\\\\imdb.title.akas.csv.gz':          title_id  ordering                                    title region  \\\n",
       " 0       tt0369610        10                            Джурасик свят     BG   \n",
       " 1       tt0369610        11                        Jurashikku warudo     JP   \n",
       " 2       tt0369610        12  Jurassic World: O Mundo dos Dinossauros     BR   \n",
       " 3       tt0369610        13                  O Mundo dos Dinossauros     BR   \n",
       " 4       tt0369610        14                           Jurassic World     FR   \n",
       " ...           ...       ...                                      ...    ...   \n",
       " 331698  tt9827784         2                       Sayonara kuchibiru    NaN   \n",
       " 331699  tt9827784         3                            Farewell Song    XWW   \n",
       " 331700  tt9880178         1                              La atención    NaN   \n",
       " 331701  tt9880178         2                              La atención     ES   \n",
       " 331702  tt9880178         3                            The Attention    XWW   \n",
       " \n",
       "        language        types   attributes  is_original_title  \n",
       " 0            bg          NaN          NaN                0.0  \n",
       " 1           NaN  imdbDisplay          NaN                0.0  \n",
       " 2           NaN  imdbDisplay          NaN                0.0  \n",
       " 3           NaN          NaN  short title                0.0  \n",
       " 4           NaN  imdbDisplay          NaN                0.0  \n",
       " ...         ...          ...          ...                ...  \n",
       " 331698      NaN     original          NaN                1.0  \n",
       " 331699       en  imdbDisplay          NaN                0.0  \n",
       " 331700      NaN     original          NaN                1.0  \n",
       " 331701      NaN          NaN          NaN                0.0  \n",
       " 331702       en  imdbDisplay          NaN                0.0  \n",
       " \n",
       " [331703 rows x 8 columns],\n",
       " './zippedData\\\\imdb.title.basics.csv.gz':            tconst                                primary_title  \\\n",
       " 0       tt0063540                                    Sunghursh   \n",
       " 1       tt0066787              One Day Before the Rainy Season   \n",
       " 2       tt0069049                   The Other Side of the Wind   \n",
       " 3       tt0069204                              Sabse Bada Sukh   \n",
       " 4       tt0100275                     The Wandering Soap Opera   \n",
       " ...           ...                                          ...   \n",
       " 146139  tt9916538                          Kuambil Lagi Hatiku   \n",
       " 146140  tt9916622  Rodolpho Teóphilo - O Legado de um Pioneiro   \n",
       " 146141  tt9916706                              Dankyavar Danka   \n",
       " 146142  tt9916730                                       6 Gunn   \n",
       " 146143  tt9916754               Chico Albuquerque - Revelações   \n",
       " \n",
       "                                      original_title  start_year  \\\n",
       " 0                                         Sunghursh        2013   \n",
       " 1                                   Ashad Ka Ek Din        2019   \n",
       " 2                        The Other Side of the Wind        2018   \n",
       " 3                                   Sabse Bada Sukh        2018   \n",
       " 4                             La Telenovela Errante        2017   \n",
       " ...                                             ...         ...   \n",
       " 146139                          Kuambil Lagi Hatiku        2019   \n",
       " 146140  Rodolpho Teóphilo - O Legado de um Pioneiro        2015   \n",
       " 146141                              Dankyavar Danka        2013   \n",
       " 146142                                       6 Gunn        2017   \n",
       " 146143               Chico Albuquerque - Revelações        2013   \n",
       " \n",
       "         runtime_minutes                genres  \n",
       " 0                 175.0    Action,Crime,Drama  \n",
       " 1                 114.0       Biography,Drama  \n",
       " 2                 122.0                 Drama  \n",
       " 3                   NaN          Comedy,Drama  \n",
       " 4                  80.0  Comedy,Drama,Fantasy  \n",
       " ...                 ...                   ...  \n",
       " 146139            123.0                 Drama  \n",
       " 146140              NaN           Documentary  \n",
       " 146141              NaN                Comedy  \n",
       " 146142            116.0                   NaN  \n",
       " 146143              NaN           Documentary  \n",
       " \n",
       " [146144 rows x 6 columns],\n",
       " './zippedData\\\\imdb.title.crew.csv.gz':            tconst                      directors              writers\n",
       " 0       tt0285252                      nm0899854            nm0899854\n",
       " 1       tt0438973                            NaN  nm0175726,nm1802864\n",
       " 2       tt0462036                      nm1940585            nm1940585\n",
       " 3       tt0835418                      nm0151540  nm0310087,nm0841532\n",
       " 4       tt0878654  nm0089502,nm2291498,nm2292011            nm0284943\n",
       " ...           ...                            ...                  ...\n",
       " 146139  tt8999974                     nm10122357           nm10122357\n",
       " 146140  tt9001390                      nm6711477            nm6711477\n",
       " 146141  tt9001494          nm10123242,nm10123248                  NaN\n",
       " 146142  tt9004986                      nm4993825            nm4993825\n",
       " 146143  tt9010172                            NaN            nm8352242\n",
       " \n",
       " [146144 rows x 3 columns],\n",
       " './zippedData\\\\imdb.title.principals.csv.gz':             tconst  ordering      nconst  category       job  \\\n",
       " 0        tt0111414         1   nm0246005     actor       NaN   \n",
       " 1        tt0111414         2   nm0398271  director       NaN   \n",
       " 2        tt0111414         3   nm3739909  producer  producer   \n",
       " 3        tt0323808        10   nm0059247    editor       NaN   \n",
       " 4        tt0323808         1   nm3579312   actress       NaN   \n",
       " ...            ...       ...         ...       ...       ...   \n",
       " 1028181  tt9692684         1   nm0186469     actor       NaN   \n",
       " 1028182  tt9692684         2   nm4929530      self       NaN   \n",
       " 1028183  tt9692684         3  nm10441594  director       NaN   \n",
       " 1028184  tt9692684         4   nm6009913    writer    writer   \n",
       " 1028185  tt9692684         5  nm10441595  producer  producer   \n",
       " \n",
       "                    characters  \n",
       " 0                 [\"The Man\"]  \n",
       " 1                         NaN  \n",
       " 2                         NaN  \n",
       " 3                         NaN  \n",
       " 4            [\"Beth Boothby\"]  \n",
       " ...                       ...  \n",
       " 1028181  [\"Ebenezer Scrooge\"]  \n",
       " 1028182   [\"Herself\",\"Regan\"]  \n",
       " 1028183                   NaN  \n",
       " 1028184                   NaN  \n",
       " 1028185                   NaN  \n",
       " \n",
       " [1028186 rows x 6 columns],\n",
       " './zippedData\\\\imdb.title.ratings.csv.gz':            tconst  averagerating  numvotes\n",
       " 0      tt10356526            8.3        31\n",
       " 1      tt10384606            8.9       559\n",
       " 2       tt1042974            6.4        20\n",
       " 3       tt1043726            4.2     50352\n",
       " 4       tt1060240            6.5        21\n",
       " ...           ...            ...       ...\n",
       " 73851   tt9805820            8.1        25\n",
       " 73852   tt9844256            7.5        24\n",
       " 73853   tt9851050            4.7        14\n",
       " 73854   tt9886934            7.0         5\n",
       " 73855   tt9894098            6.3       128\n",
       " \n",
       " [73856 rows x 3 columns],\n",
       " './zippedData\\\\tmdb.movies.csv.gz':        Unnamed: 0            genre_ids      id original_language  \\\n",
       " 0               0      [12, 14, 10751]   12444                en   \n",
       " 1               1  [14, 12, 16, 10751]   10191                en   \n",
       " 2               2        [12, 28, 878]   10138                en   \n",
       " 3               3      [16, 35, 10751]     862                en   \n",
       " 4               4        [28, 878, 12]   27205                en   \n",
       " ...           ...                  ...     ...               ...   \n",
       " 26512       26512             [27, 18]  488143                en   \n",
       " 26513       26513             [18, 53]  485975                en   \n",
       " 26514       26514         [14, 28, 12]  381231                en   \n",
       " 26515       26515      [10751, 12, 28]  366854                en   \n",
       " 26516       26516             [53, 27]  309885                en   \n",
       " \n",
       "                                      original_title  popularity release_date  \\\n",
       " 0      Harry Potter and the Deathly Hallows: Part 1      33.533   2010-11-19   \n",
       " 1                          How to Train Your Dragon      28.734   2010-03-26   \n",
       " 2                                        Iron Man 2      28.515   2010-05-07   \n",
       " 3                                         Toy Story      28.005   1995-11-22   \n",
       " 4                                         Inception      27.920   2010-07-16   \n",
       " ...                                             ...         ...          ...   \n",
       " 26512                         Laboratory Conditions       0.600   2018-10-13   \n",
       " 26513                               _EXHIBIT_84xxx_       0.600   2018-05-01   \n",
       " 26514                                  The Last One       0.600   2018-10-01   \n",
       " 26515                                  Trailer Made       0.600   2018-06-22   \n",
       " 26516                                    The Church       0.600   2018-10-05   \n",
       " \n",
       "                                               title  vote_average  vote_count  \n",
       " 0      Harry Potter and the Deathly Hallows: Part 1           7.7       10788  \n",
       " 1                          How to Train Your Dragon           7.7        7610  \n",
       " 2                                        Iron Man 2           6.8       12368  \n",
       " 3                                         Toy Story           7.9       10174  \n",
       " 4                                         Inception           8.3       22186  \n",
       " ...                                             ...           ...         ...  \n",
       " 26512                         Laboratory Conditions           0.0           1  \n",
       " 26513                               _EXHIBIT_84xxx_           0.0           1  \n",
       " 26514                                  The Last One           0.0           1  \n",
       " 26515                                  Trailer Made           0.0           1  \n",
       " 26516                                    The Church           0.0           1  \n",
       " \n",
       " [26517 rows x 10 columns],\n",
       " './zippedData\\\\tn.movie_budgets.csv.gz':       id  release_date                                        movie  \\\n",
       " 0      1  Dec 18, 2009                                       Avatar   \n",
       " 1      2  May 20, 2011  Pirates of the Caribbean: On Stranger Tides   \n",
       " 2      3   Jun 7, 2019                                 Dark Phoenix   \n",
       " 3      4   May 1, 2015                      Avengers: Age of Ultron   \n",
       " 4      5  Dec 15, 2017            Star Wars Ep. VIII: The Last Jedi   \n",
       " ...   ..           ...                                          ...   \n",
       " 5777  78  Dec 31, 2018                                       Red 11   \n",
       " 5778  79   Apr 2, 1999                                    Following   \n",
       " 5779  80  Jul 13, 2005                Return to the Land of Wonders   \n",
       " 5780  81  Sep 29, 2015                         A Plague So Pleasant   \n",
       " 5781  82   Aug 5, 2005                            My Date With Drew   \n",
       " \n",
       "      production_budget domestic_gross worldwide_gross  \n",
       " 0         $425,000,000   $760,507,625  $2,776,345,279  \n",
       " 1         $410,600,000   $241,063,875  $1,045,663,875  \n",
       " 2         $350,000,000    $42,762,350    $149,762,350  \n",
       " 3         $330,600,000   $459,005,868  $1,403,013,963  \n",
       " 4         $317,000,000   $620,181,382  $1,316,721,747  \n",
       " ...                ...            ...             ...  \n",
       " 5777            $7,000             $0              $0  \n",
       " 5778            $6,000        $48,482        $240,495  \n",
       " 5779            $5,000         $1,338          $1,338  \n",
       " 5780            $1,400             $0              $0  \n",
       " 5781            $1,100       $181,041        $181,041  \n",
       " \n",
       " [5782 rows x 6 columns],\n",
       " './zippedData\\\\rt.movie_info.tsv.gz':         id                                           synopsis rating  \\\n",
       " 0        1  This gritty, fast-paced, and innovative police...      R   \n",
       " 1        3  New York City, not-too-distant-future: Eric Pa...      R   \n",
       " 2        5  Illeana Douglas delivers a superb performance ...      R   \n",
       " 3        6  Michael Douglas runs afoul of a treacherous su...      R   \n",
       " 4        7                                                NaN     NR   \n",
       " ...    ...                                                ...    ...   \n",
       " 1555  1996  Forget terrorists or hijackers -- there's a ha...      R   \n",
       " 1556  1997  The popular Saturday Night Live sketch was exp...     PG   \n",
       " 1557  1998  Based on a novel by Richard Powell, when the l...      G   \n",
       " 1558  1999  The Sandlot is a coming-of-age story about a g...     PG   \n",
       " 1559  2000  Suspended from the force, Paris cop Hubert is ...      R   \n",
       " \n",
       "                                                   genre            director  \\\n",
       " 0                   Action and Adventure|Classics|Drama    William Friedkin   \n",
       " 1                     Drama|Science Fiction and Fantasy    David Cronenberg   \n",
       " 2                     Drama|Musical and Performing Arts      Allison Anders   \n",
       " 3                            Drama|Mystery and Suspense      Barry Levinson   \n",
       " 4                                         Drama|Romance      Rodney Bennett   \n",
       " ...                                                 ...                 ...   \n",
       " 1555   Action and Adventure|Horror|Mystery and Suspense                 NaN   \n",
       " 1556                 Comedy|Science Fiction and Fantasy        Steve Barron   \n",
       " 1557  Classics|Comedy|Drama|Musical and Performing Arts      Gordon Douglas   \n",
       " 1558    Comedy|Drama|Kids and Family|Sports and Fitness  David Mickey Evans   \n",
       " 1559  Action and Adventure|Art House and Internation...                 NaN   \n",
       " \n",
       "                                                 writer  theater_date  \\\n",
       " 0                                       Ernest Tidyman   Oct 9, 1971   \n",
       " 1                         David Cronenberg|Don DeLillo  Aug 17, 2012   \n",
       " 2                                       Allison Anders  Sep 13, 1996   \n",
       " 3                      Paul Attanasio|Michael Crichton   Dec 9, 1994   \n",
       " 4                                         Giles Cooper           NaN   \n",
       " ...                                                ...           ...   \n",
       " 1555                                               NaN  Aug 18, 2006   \n",
       " 1556  Terry Turner|Tom Davis|Dan Aykroyd|Bonnie Turner  Jul 23, 1993   \n",
       " 1557                                               NaN   Jan 1, 1962   \n",
       " 1558                  David Mickey Evans|Robert Gunter   Apr 1, 1993   \n",
       " 1559                                        Luc Besson  Sep 27, 2001   \n",
       " \n",
       "           dvd_date currency  box_office      runtime             studio  \n",
       " 0     Sep 25, 2001      NaN         NaN  104 minutes                NaN  \n",
       " 1      Jan 1, 2013        $     600,000  108 minutes  Entertainment One  \n",
       " 2     Apr 18, 2000      NaN         NaN  116 minutes                NaN  \n",
       " 3     Aug 27, 1997      NaN         NaN  128 minutes                NaN  \n",
       " 4              NaN      NaN         NaN  200 minutes                NaN  \n",
       " ...            ...      ...         ...          ...                ...  \n",
       " 1555   Jan 2, 2007        $  33,886,034  106 minutes    New Line Cinema  \n",
       " 1556  Apr 17, 2001      NaN         NaN   88 minutes  Paramount Vantage  \n",
       " 1557  May 11, 2004      NaN         NaN  111 minutes                NaN  \n",
       " 1558  Jan 29, 2002      NaN         NaN  101 minutes                NaN  \n",
       " 1559  Feb 11, 2003      NaN         NaN   94 minutes  Columbia Pictures  \n",
       " \n",
       " [1560 rows x 12 columns],\n",
       " './zippedData\\\\rt.reviews.tsv.gz':          id                                             review rating   fresh  \\\n",
       " 0         3  A distinctly gallows take on contemporary fina...    3/5   fresh   \n",
       " 1         3  It's an allegory in search of a meaning that n...    NaN  rotten   \n",
       " 2         3  ... life lived in a bubble in financial dealin...    NaN   fresh   \n",
       " 3         3  Continuing along a line introduced in last yea...    NaN   fresh   \n",
       " 4         3             ... a perverse twist on neorealism...     NaN   fresh   \n",
       " ...     ...                                                ...    ...     ...   \n",
       " 54427  2000  The real charm of this trifle is the deadpan c...    NaN   fresh   \n",
       " 54428  2000                                                NaN    1/5  rotten   \n",
       " 54429  2000                                                NaN    2/5  rotten   \n",
       " 54430  2000                                                NaN  2.5/5  rotten   \n",
       " 54431  2000                                                NaN    3/5   fresh   \n",
       " \n",
       "                   critic  top_critic         publisher                date  \n",
       " 0             PJ Nabarro           0   Patrick Nabarro   November 10, 2018  \n",
       " 1         Annalee Newitz           0           io9.com        May 23, 2018  \n",
       " 2           Sean Axmaker           0  Stream on Demand     January 4, 2018  \n",
       " 3          Daniel Kasman           0              MUBI   November 16, 2017  \n",
       " 4                    NaN           0      Cinema Scope    October 12, 2017  \n",
       " ...                  ...         ...               ...                 ...  \n",
       " 54427      Laura Sinagra           1     Village Voice  September 24, 2002  \n",
       " 54428  Michael Szymanski           0        Zap2it.com  September 21, 2005  \n",
       " 54429       Emanuel Levy           0   EmanuelLevy.Com       July 17, 2005  \n",
       " 54430   Christopher Null           0    Filmcritic.com   September 7, 2003  \n",
       " 54431    Nicolas Lacroix           0      Showbizz.net   November 12, 2002  \n",
       " \n",
       " [54432 rows x 8 columns]}"
      ]
     },
     "execution_count": 41,
     "metadata": {},
     "output_type": "execute_result"
    }
   ],
   "source": [
    "data_dict"
   ]
  },
  {
   "cell_type": "code",
   "execution_count": 18,
   "metadata": {
    "ExecuteTime": {
     "end_time": "2020-08-18T18:40:24.298192Z",
     "start_time": "2020-08-18T18:40:23.650554Z"
    }
   },
   "outputs": [
    {
     "data": {
      "text/plain": [
       "['./zippedData\\\\rt.movie_info.tsv.gz', './zippedData\\\\rt.reviews.tsv.gz']"
      ]
     },
     "execution_count": 18,
     "metadata": {},
     "output_type": "execute_result"
    }
   ],
   "source": [
    "tsv_files"
   ]
  },
  {
   "cell_type": "code",
   "execution_count": 19,
   "metadata": {
    "ExecuteTime": {
     "end_time": "2020-08-18T18:40:26.371487Z",
     "start_time": "2020-08-18T18:40:24.308187Z"
    }
   },
   "outputs": [],
   "source": [
    "imdb_df = pd.read_csv('zippedData/imdb.name.basics.csv.gz')"
   ]
  },
  {
   "cell_type": "code",
   "execution_count": 20,
   "metadata": {
    "ExecuteTime": {
     "end_time": "2020-08-18T18:40:26.394474Z",
     "start_time": "2020-08-18T18:40:26.373486Z"
    }
   },
   "outputs": [
    {
     "data": {
      "text/html": [
       "<div>\n",
       "<style scoped>\n",
       "    .dataframe tbody tr th:only-of-type {\n",
       "        vertical-align: middle;\n",
       "    }\n",
       "\n",
       "    .dataframe tbody tr th {\n",
       "        vertical-align: top;\n",
       "    }\n",
       "\n",
       "    .dataframe thead th {\n",
       "        text-align: right;\n",
       "    }\n",
       "</style>\n",
       "<table border=\"1\" class=\"dataframe\">\n",
       "  <thead>\n",
       "    <tr style=\"text-align: right;\">\n",
       "      <th></th>\n",
       "      <th>nconst</th>\n",
       "      <th>primary_name</th>\n",
       "      <th>birth_year</th>\n",
       "      <th>death_year</th>\n",
       "      <th>primary_profession</th>\n",
       "      <th>known_for_titles</th>\n",
       "    </tr>\n",
       "  </thead>\n",
       "  <tbody>\n",
       "    <tr>\n",
       "      <td>0</td>\n",
       "      <td>nm0061671</td>\n",
       "      <td>Mary Ellen Bauder</td>\n",
       "      <td>NaN</td>\n",
       "      <td>NaN</td>\n",
       "      <td>miscellaneous,production_manager,producer</td>\n",
       "      <td>tt0837562,tt2398241,tt0844471,tt0118553</td>\n",
       "    </tr>\n",
       "    <tr>\n",
       "      <td>1</td>\n",
       "      <td>nm0061865</td>\n",
       "      <td>Joseph Bauer</td>\n",
       "      <td>NaN</td>\n",
       "      <td>NaN</td>\n",
       "      <td>composer,music_department,sound_department</td>\n",
       "      <td>tt0896534,tt6791238,tt0287072,tt1682940</td>\n",
       "    </tr>\n",
       "    <tr>\n",
       "      <td>2</td>\n",
       "      <td>nm0062070</td>\n",
       "      <td>Bruce Baum</td>\n",
       "      <td>NaN</td>\n",
       "      <td>NaN</td>\n",
       "      <td>miscellaneous,actor,writer</td>\n",
       "      <td>tt1470654,tt0363631,tt0104030,tt0102898</td>\n",
       "    </tr>\n",
       "    <tr>\n",
       "      <td>3</td>\n",
       "      <td>nm0062195</td>\n",
       "      <td>Axel Baumann</td>\n",
       "      <td>NaN</td>\n",
       "      <td>NaN</td>\n",
       "      <td>camera_department,cinematographer,art_department</td>\n",
       "      <td>tt0114371,tt2004304,tt1618448,tt1224387</td>\n",
       "    </tr>\n",
       "    <tr>\n",
       "      <td>4</td>\n",
       "      <td>nm0062798</td>\n",
       "      <td>Pete Baxter</td>\n",
       "      <td>NaN</td>\n",
       "      <td>NaN</td>\n",
       "      <td>production_designer,art_department,set_decorator</td>\n",
       "      <td>tt0452644,tt0452692,tt3458030,tt2178256</td>\n",
       "    </tr>\n",
       "  </tbody>\n",
       "</table>\n",
       "</div>"
      ],
      "text/plain": [
       "      nconst       primary_name  birth_year  death_year  \\\n",
       "0  nm0061671  Mary Ellen Bauder         NaN         NaN   \n",
       "1  nm0061865       Joseph Bauer         NaN         NaN   \n",
       "2  nm0062070         Bruce Baum         NaN         NaN   \n",
       "3  nm0062195       Axel Baumann         NaN         NaN   \n",
       "4  nm0062798        Pete Baxter         NaN         NaN   \n",
       "\n",
       "                                 primary_profession  \\\n",
       "0         miscellaneous,production_manager,producer   \n",
       "1        composer,music_department,sound_department   \n",
       "2                        miscellaneous,actor,writer   \n",
       "3  camera_department,cinematographer,art_department   \n",
       "4  production_designer,art_department,set_decorator   \n",
       "\n",
       "                          known_for_titles  \n",
       "0  tt0837562,tt2398241,tt0844471,tt0118553  \n",
       "1  tt0896534,tt6791238,tt0287072,tt1682940  \n",
       "2  tt1470654,tt0363631,tt0104030,tt0102898  \n",
       "3  tt0114371,tt2004304,tt1618448,tt1224387  \n",
       "4  tt0452644,tt0452692,tt3458030,tt2178256  "
      ]
     },
     "execution_count": 20,
     "metadata": {},
     "output_type": "execute_result"
    }
   ],
   "source": [
    "imdb_df.head()"
   ]
  },
  {
   "cell_type": "code",
   "execution_count": 21,
   "metadata": {
    "ExecuteTime": {
     "end_time": "2020-08-18T18:40:26.916835Z",
     "start_time": "2020-08-18T18:40:26.397474Z"
    },
    "scrolled": true
   },
   "outputs": [
    {
     "data": {
      "text/html": [
       "<div>\n",
       "<style scoped>\n",
       "    .dataframe tbody tr th:only-of-type {\n",
       "        vertical-align: middle;\n",
       "    }\n",
       "\n",
       "    .dataframe tbody tr th {\n",
       "        vertical-align: top;\n",
       "    }\n",
       "\n",
       "    .dataframe thead th {\n",
       "        text-align: right;\n",
       "    }\n",
       "</style>\n",
       "<table border=\"1\" class=\"dataframe\">\n",
       "  <thead>\n",
       "    <tr style=\"text-align: right;\">\n",
       "      <th></th>\n",
       "      <th>nconst</th>\n",
       "      <th>primary_name</th>\n",
       "      <th>birth_year</th>\n",
       "      <th>death_year</th>\n",
       "      <th>primary_profession</th>\n",
       "      <th>known_for_titles</th>\n",
       "    </tr>\n",
       "  </thead>\n",
       "  <tbody>\n",
       "    <tr>\n",
       "      <td>606643</td>\n",
       "      <td>nm9990381</td>\n",
       "      <td>Susan Grobes</td>\n",
       "      <td>NaN</td>\n",
       "      <td>NaN</td>\n",
       "      <td>actress</td>\n",
       "      <td>NaN</td>\n",
       "    </tr>\n",
       "    <tr>\n",
       "      <td>606644</td>\n",
       "      <td>nm9990690</td>\n",
       "      <td>Joo Yeon So</td>\n",
       "      <td>NaN</td>\n",
       "      <td>NaN</td>\n",
       "      <td>actress</td>\n",
       "      <td>tt9090932,tt8737130</td>\n",
       "    </tr>\n",
       "    <tr>\n",
       "      <td>606645</td>\n",
       "      <td>nm9991320</td>\n",
       "      <td>Madeline Smith</td>\n",
       "      <td>NaN</td>\n",
       "      <td>NaN</td>\n",
       "      <td>actress</td>\n",
       "      <td>tt8734436,tt9615610</td>\n",
       "    </tr>\n",
       "    <tr>\n",
       "      <td>606646</td>\n",
       "      <td>nm9991786</td>\n",
       "      <td>Michelle Modigliani</td>\n",
       "      <td>NaN</td>\n",
       "      <td>NaN</td>\n",
       "      <td>producer</td>\n",
       "      <td>NaN</td>\n",
       "    </tr>\n",
       "    <tr>\n",
       "      <td>606647</td>\n",
       "      <td>nm9993380</td>\n",
       "      <td>Pegasus Envoyé</td>\n",
       "      <td>NaN</td>\n",
       "      <td>NaN</td>\n",
       "      <td>director,actor,writer</td>\n",
       "      <td>tt8743182</td>\n",
       "    </tr>\n",
       "  </tbody>\n",
       "</table>\n",
       "</div>"
      ],
      "text/plain": [
       "           nconst         primary_name  birth_year  death_year  \\\n",
       "606643  nm9990381         Susan Grobes         NaN         NaN   \n",
       "606644  nm9990690          Joo Yeon So         NaN         NaN   \n",
       "606645  nm9991320       Madeline Smith         NaN         NaN   \n",
       "606646  nm9991786  Michelle Modigliani         NaN         NaN   \n",
       "606647  nm9993380       Pegasus Envoyé         NaN         NaN   \n",
       "\n",
       "           primary_profession     known_for_titles  \n",
       "606643                actress                  NaN  \n",
       "606644                actress  tt9090932,tt8737130  \n",
       "606645                actress  tt8734436,tt9615610  \n",
       "606646               producer                  NaN  \n",
       "606647  director,actor,writer            tt8743182  "
      ]
     },
     "execution_count": 21,
     "metadata": {},
     "output_type": "execute_result"
    }
   ],
   "source": [
    "imdb_df.tail()"
   ]
  },
  {
   "cell_type": "code",
   "execution_count": 22,
   "metadata": {
    "ExecuteTime": {
     "end_time": "2020-08-18T18:40:28.253903Z",
     "start_time": "2020-08-18T18:40:26.920831Z"
    }
   },
   "outputs": [
    {
     "name": "stdout",
     "output_type": "stream",
     "text": [
      "<class 'pandas.core.frame.DataFrame'>\n",
      "RangeIndex: 606648 entries, 0 to 606647\n",
      "Data columns (total 6 columns):\n",
      "nconst                606648 non-null object\n",
      "primary_name          606648 non-null object\n",
      "birth_year            82736 non-null float64\n",
      "death_year            6783 non-null float64\n",
      "primary_profession    555308 non-null object\n",
      "known_for_titles      576444 non-null object\n",
      "dtypes: float64(2), object(4)\n",
      "memory usage: 27.8+ MB\n"
     ]
    }
   ],
   "source": [
    "imdb_df.info()"
   ]
  },
  {
   "cell_type": "code",
   "execution_count": 23,
   "metadata": {
    "ExecuteTime": {
     "end_time": "2020-08-18T18:40:28.284882Z",
     "start_time": "2020-08-18T18:40:28.262896Z"
    }
   },
   "outputs": [
    {
     "data": {
      "text/plain": [
       "(606648, 6)"
      ]
     },
     "execution_count": 23,
     "metadata": {},
     "output_type": "execute_result"
    }
   ],
   "source": [
    "imdb_df.shape"
   ]
  },
  {
   "cell_type": "code",
   "execution_count": 24,
   "metadata": {
    "ExecuteTime": {
     "end_time": "2020-08-18T18:40:30.308175Z",
     "start_time": "2020-08-18T18:40:28.292876Z"
    },
    "scrolled": true
   },
   "outputs": [
    {
     "data": {
      "text/plain": [
       "Michael Brown            0.000026\n",
       "James Brown              0.000026\n",
       "David Brown              0.000025\n",
       "Michael Johnson          0.000023\n",
       "Dinesh                   0.000021\n",
       "                           ...   \n",
       "Cory Huff                0.000002\n",
       "Sergio Bradgio           0.000002\n",
       "Nynke Laverman           0.000002\n",
       "Alex Gudkov              0.000002\n",
       "Kalyana Chandrasekera    0.000002\n",
       "Name: primary_name, Length: 577203, dtype: float64"
      ]
     },
     "execution_count": 24,
     "metadata": {},
     "output_type": "execute_result"
    }
   ],
   "source": [
    "imdb_df['primary_name'].value_counts(10)"
   ]
  },
  {
   "cell_type": "code",
   "execution_count": 39,
   "metadata": {
    "ExecuteTime": {
     "end_time": "2020-08-18T23:50:24.869141Z",
     "start_time": "2020-08-18T23:50:23.445944Z"
    }
   },
   "outputs": [
    {
     "data": {
      "text/html": [
       "<div>\n",
       "<style scoped>\n",
       "    .dataframe tbody tr th:only-of-type {\n",
       "        vertical-align: middle;\n",
       "    }\n",
       "\n",
       "    .dataframe tbody tr th {\n",
       "        vertical-align: top;\n",
       "    }\n",
       "\n",
       "    .dataframe thead th {\n",
       "        text-align: right;\n",
       "    }\n",
       "</style>\n",
       "<table border=\"1\" class=\"dataframe\">\n",
       "  <thead>\n",
       "    <tr style=\"text-align: right;\">\n",
       "      <th></th>\n",
       "      <th>birth_year</th>\n",
       "      <th>death_year</th>\n",
       "    </tr>\n",
       "    <tr>\n",
       "      <th>primary_name</th>\n",
       "      <th></th>\n",
       "      <th></th>\n",
       "    </tr>\n",
       "  </thead>\n",
       "  <tbody>\n",
       "    <tr>\n",
       "      <td>!'aru Ikhuisi Piet Berendse</td>\n",
       "      <td>0.0</td>\n",
       "      <td>0.0</td>\n",
       "    </tr>\n",
       "    <tr>\n",
       "      <td>$hutter</td>\n",
       "      <td>0.0</td>\n",
       "      <td>0.0</td>\n",
       "    </tr>\n",
       "    <tr>\n",
       "      <td>'A.J.' Marriot</td>\n",
       "      <td>0.0</td>\n",
       "      <td>0.0</td>\n",
       "    </tr>\n",
       "    <tr>\n",
       "      <td>'Atlas' Ramachandran</td>\n",
       "      <td>0.0</td>\n",
       "      <td>0.0</td>\n",
       "    </tr>\n",
       "    <tr>\n",
       "      <td>'Atolomake Helu</td>\n",
       "      <td>0.0</td>\n",
       "      <td>0.0</td>\n",
       "    </tr>\n",
       "    <tr>\n",
       "      <td>...</td>\n",
       "      <td>...</td>\n",
       "      <td>...</td>\n",
       "    </tr>\n",
       "    <tr>\n",
       "      <td>Þórhallur Þórhallsson</td>\n",
       "      <td>0.0</td>\n",
       "      <td>0.0</td>\n",
       "    </tr>\n",
       "    <tr>\n",
       "      <td>Þórir Bragason</td>\n",
       "      <td>0.0</td>\n",
       "      <td>0.0</td>\n",
       "    </tr>\n",
       "    <tr>\n",
       "      <td>Þórir Ingvarsson</td>\n",
       "      <td>0.0</td>\n",
       "      <td>0.0</td>\n",
       "    </tr>\n",
       "    <tr>\n",
       "      <td>Þórunn Lárusdóttir</td>\n",
       "      <td>0.0</td>\n",
       "      <td>0.0</td>\n",
       "    </tr>\n",
       "    <tr>\n",
       "      <td>Þórður Aðalbjörnsson</td>\n",
       "      <td>0.0</td>\n",
       "      <td>0.0</td>\n",
       "    </tr>\n",
       "  </tbody>\n",
       "</table>\n",
       "<p>577203 rows × 2 columns</p>\n",
       "</div>"
      ],
      "text/plain": [
       "                             birth_year  death_year\n",
       "primary_name                                       \n",
       "!'aru Ikhuisi Piet Berendse         0.0         0.0\n",
       "$hutter                             0.0         0.0\n",
       "'A.J.' Marriot                      0.0         0.0\n",
       "'Atlas' Ramachandran                0.0         0.0\n",
       "'Atolomake Helu                     0.0         0.0\n",
       "...                                 ...         ...\n",
       "Þórhallur Þórhallsson               0.0         0.0\n",
       "Þórir Bragason                      0.0         0.0\n",
       "Þórir Ingvarsson                    0.0         0.0\n",
       "Þórunn Lárusdóttir                  0.0         0.0\n",
       "Þórður Aðalbjörnsson                0.0         0.0\n",
       "\n",
       "[577203 rows x 2 columns]"
      ]
     },
     "execution_count": 39,
     "metadata": {},
     "output_type": "execute_result"
    }
   ],
   "source": [
    "imdb_df.groupby('primary_name').sum()"
   ]
  },
  {
   "cell_type": "code",
   "execution_count": 37,
   "metadata": {
    "ExecuteTime": {
     "end_time": "2020-08-18T23:49:14.163063Z",
     "start_time": "2020-08-18T23:49:14.017147Z"
    }
   },
   "outputs": [
    {
     "data": {
      "text/plain": [
       "nconst                     0\n",
       "primary_name               0\n",
       "birth_year            523912\n",
       "death_year            599865\n",
       "primary_profession     51340\n",
       "known_for_titles       30204\n",
       "dtype: int64"
      ]
     },
     "execution_count": 37,
     "metadata": {},
     "output_type": "execute_result"
    }
   ],
   "source": [
    "imdb_df.isnull().sum()"
   ]
  },
  {
   "cell_type": "code",
   "execution_count": 26,
   "metadata": {
    "ExecuteTime": {
     "end_time": "2020-08-18T18:59:03.613446Z",
     "start_time": "2020-08-18T18:59:03.607447Z"
    }
   },
   "outputs": [
    {
     "data": {
      "text/plain": [
       "pandas.core.frame.DataFrame"
      ]
     },
     "execution_count": 26,
     "metadata": {},
     "output_type": "execute_result"
    }
   ],
   "source": [
    "type(imdb_df)"
   ]
  },
  {
   "cell_type": "code",
   "execution_count": 27,
   "metadata": {
    "ExecuteTime": {
     "end_time": "2020-08-18T19:41:03.813704Z",
     "start_time": "2020-08-18T19:41:00.326686Z"
    }
   },
   "outputs": [],
   "source": [
    "imdb_df1 = pd.read_csv('zippedData/imdb.title.akas.csv.gz')\n",
    "imdb_df2 = pd.read_csv('zippedData/imdb.title.basics.csv.gz')\n",
    "imdb_df3 = pd.read_csv('zippedData/imdb.title.crew.csv.gz')\n",
    "imdb_df4 = pd.read_csv('zippedData/imdb.title.principals.csv.gz')\n",
    "imdb_df5 = pd.read_csv('zippedData/imdb.title.ratings.csv.gz')\n",
    "tmdb_df = pd.read_csv('zippedData/tmdb.movies.csv.gz')\n",
    "bom = pd.read_csv('zippedData/bom.movie_gross.csv.gz')\n",
    "tn = pd.read_csv('zippedData/tn.movie_budgets.csv.gz') "
   ]
  },
  {
   "cell_type": "code",
   "execution_count": 29,
   "metadata": {
    "ExecuteTime": {
     "end_time": "2020-08-18T20:37:59.092740Z",
     "start_time": "2020-08-18T20:37:58.108622Z"
    }
   },
   "outputs": [
    {
     "name": "stdout",
     "output_type": "stream",
     "text": [
      "<class 'pandas.core.frame.DataFrame'>\n",
      "RangeIndex: 606648 entries, 0 to 606647\n",
      "Data columns (total 6 columns):\n",
      "nconst                606648 non-null object\n",
      "primary_name          606648 non-null object\n",
      "birth_year            82736 non-null float64\n",
      "death_year            6783 non-null float64\n",
      "primary_profession    555308 non-null object\n",
      "known_for_titles      576444 non-null object\n",
      "dtypes: float64(2), object(4)\n",
      "memory usage: 27.8+ MB\n",
      "<class 'pandas.core.frame.DataFrame'>\n",
      "RangeIndex: 331703 entries, 0 to 331702\n",
      "Data columns (total 8 columns):\n",
      "title_id             331703 non-null object\n",
      "ordering             331703 non-null int64\n",
      "title                331703 non-null object\n",
      "region               278410 non-null object\n",
      "language             41715 non-null object\n",
      "types                168447 non-null object\n",
      "attributes           14925 non-null object\n",
      "is_original_title    331678 non-null float64\n",
      "dtypes: float64(1), int64(1), object(6)\n",
      "memory usage: 20.2+ MB\n",
      "<class 'pandas.core.frame.DataFrame'>\n",
      "RangeIndex: 146144 entries, 0 to 146143\n",
      "Data columns (total 6 columns):\n",
      "tconst             146144 non-null object\n",
      "primary_title      146144 non-null object\n",
      "original_title     146123 non-null object\n",
      "start_year         146144 non-null int64\n",
      "runtime_minutes    114405 non-null float64\n",
      "genres             140736 non-null object\n",
      "dtypes: float64(1), int64(1), object(4)\n",
      "memory usage: 6.7+ MB\n",
      "<class 'pandas.core.frame.DataFrame'>\n",
      "RangeIndex: 146144 entries, 0 to 146143\n",
      "Data columns (total 3 columns):\n",
      "tconst       146144 non-null object\n",
      "directors    140417 non-null object\n",
      "writers      110261 non-null object\n",
      "dtypes: object(3)\n",
      "memory usage: 3.3+ MB\n",
      "<class 'pandas.core.frame.DataFrame'>\n",
      "RangeIndex: 1028186 entries, 0 to 1028185\n",
      "Data columns (total 6 columns):\n",
      "tconst        1028186 non-null object\n",
      "ordering      1028186 non-null int64\n",
      "nconst        1028186 non-null object\n",
      "category      1028186 non-null object\n",
      "job           177684 non-null object\n",
      "characters    393360 non-null object\n",
      "dtypes: int64(1), object(5)\n",
      "memory usage: 47.1+ MB\n",
      "<class 'pandas.core.frame.DataFrame'>\n",
      "RangeIndex: 73856 entries, 0 to 73855\n",
      "Data columns (total 3 columns):\n",
      "tconst           73856 non-null object\n",
      "averagerating    73856 non-null float64\n",
      "numvotes         73856 non-null int64\n",
      "dtypes: float64(1), int64(1), object(1)\n",
      "memory usage: 1.7+ MB\n",
      "<class 'pandas.core.frame.DataFrame'>\n",
      "RangeIndex: 26517 entries, 0 to 26516\n",
      "Data columns (total 10 columns):\n",
      "Unnamed: 0           26517 non-null int64\n",
      "genre_ids            26517 non-null object\n",
      "id                   26517 non-null int64\n",
      "original_language    26517 non-null object\n",
      "original_title       26517 non-null object\n",
      "popularity           26517 non-null float64\n",
      "release_date         26517 non-null object\n",
      "title                26517 non-null object\n",
      "vote_average         26517 non-null float64\n",
      "vote_count           26517 non-null int64\n",
      "dtypes: float64(2), int64(3), object(5)\n",
      "memory usage: 2.0+ MB\n",
      "<class 'pandas.core.frame.DataFrame'>\n",
      "RangeIndex: 3387 entries, 0 to 3386\n",
      "Data columns (total 5 columns):\n",
      "title             3387 non-null object\n",
      "studio            3382 non-null object\n",
      "domestic_gross    3359 non-null float64\n",
      "foreign_gross     2037 non-null object\n",
      "year              3387 non-null int64\n",
      "dtypes: float64(1), int64(1), object(3)\n",
      "memory usage: 132.4+ KB\n",
      "<class 'pandas.core.frame.DataFrame'>\n",
      "RangeIndex: 5782 entries, 0 to 5781\n",
      "Data columns (total 6 columns):\n",
      "id                   5782 non-null int64\n",
      "release_date         5782 non-null object\n",
      "movie                5782 non-null object\n",
      "production_budget    5782 non-null object\n",
      "domestic_gross       5782 non-null object\n",
      "worldwide_gross      5782 non-null object\n",
      "dtypes: int64(1), object(5)\n",
      "memory usage: 271.2+ KB\n"
     ]
    }
   ],
   "source": [
    "imdb_df.info()\n",
    "imdb_df1.info()\n",
    "imdb_df2.info()\n",
    "imdb_df3.info()\n",
    "imdb_df4.info()\n",
    "imdb_df5.info()\n",
    "tmdb_df.info()\n",
    "bom.info()\n",
    "tn.info()"
   ]
  },
  {
   "cell_type": "code",
   "execution_count": 31,
   "metadata": {
    "ExecuteTime": {
     "end_time": "2020-08-18T20:45:12.708418Z",
     "start_time": "2020-08-18T20:45:12.700419Z"
    }
   },
   "outputs": [
    {
     "name": "stdout",
     "output_type": "stream",
     "text": [
      "(606648, 6) (331703, 8) (146144, 6) (146144, 3) (1028186, 6) (73856, 3) (26517, 10) (3387, 5) (5782, 6)\n"
     ]
    }
   ],
   "source": [
    "print(imdb_df.shape,imdb_df1.shape,imdb_df2.shape,imdb_df3.shape,imdb_df4.shape,imdb_df5.shape,tmdb_df.shape,bom.shape,tn.shape)"
   ]
  },
  {
   "cell_type": "code",
   "execution_count": 63,
   "metadata": {
    "ExecuteTime": {
     "end_time": "2020-08-19T01:24:19.099452Z",
     "start_time": "2020-08-19T01:24:19.096452Z"
    }
   },
   "outputs": [],
   "source": [
    "# imdb_title_df = pd.concat([imdb_df1, imdb_df2, imdb_df3,imdb_df4], axis=1, join='inner')\n",
    "# imdb_title_df"
   ]
  },
  {
   "cell_type": "code",
   "execution_count": null,
   "metadata": {},
   "outputs": [],
   "source": []
  }
 ],
 "metadata": {
  "kernelspec": {
   "display_name": "Python 3",
   "language": "python",
   "name": "python3"
  },
  "language_info": {
   "codemirror_mode": {
    "name": "ipython",
    "version": 3
   },
   "file_extension": ".py",
   "mimetype": "text/x-python",
   "name": "python",
   "nbconvert_exporter": "python",
   "pygments_lexer": "ipython3",
   "version": "3.6.9"
  },
  "toc": {
   "base_numbering": 1,
   "nav_menu": {},
   "number_sections": false,
   "sideBar": true,
   "skip_h1_title": false,
   "title_cell": "Table of Contents",
   "title_sidebar": "Contents",
   "toc_cell": false,
   "toc_position": {},
   "toc_section_display": true,
   "toc_window_display": false
  },
  "varInspector": {
   "cols": {
    "lenName": 16,
    "lenType": 16,
    "lenVar": 40
   },
   "kernels_config": {
    "python": {
     "delete_cmd_postfix": "",
     "delete_cmd_prefix": "del ",
     "library": "var_list.py",
     "varRefreshCmd": "print(var_dic_list())"
    },
    "r": {
     "delete_cmd_postfix": ") ",
     "delete_cmd_prefix": "rm(",
     "library": "var_list.r",
     "varRefreshCmd": "cat(var_dic_list()) "
    }
   },
   "types_to_exclude": [
    "module",
    "function",
    "builtin_function_or_method",
    "instance",
    "_Feature"
   ],
   "window_display": false
  }
 },
 "nbformat": 4,
 "nbformat_minor": 4
}
